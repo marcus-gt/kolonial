{
 "cells": [
  {
   "cell_type": "code",
   "execution_count": 8,
   "metadata": {},
   "outputs": [],
   "source": [
    "def minimal_number_of_packages(items, available_large_packages, available_small_packages):\n",
    "    large_packages = 0\n",
    "    small_packages = 0\n",
    "\n",
    "    while available_large_packages >0 and items // 5 >0:\n",
    "        items -=5\n",
    "        large_packages +=1 \n",
    "        available_large_packages -= 1\n",
    "\n",
    "    while available_small_packages >0 and items>0:\n",
    "        items -=1\n",
    "        small_packages +=1 \n",
    "        available_small_packages -= 1\n",
    "    \n",
    "    print(\"No. of large packages: \" + str(large_packages))\n",
    "    print(\"No. of small packages: \" + str(small_packages))\n",
    "    print(\"Rest items: \"+ str(items))\n",
    "    print(\"Ramaining avaliable lage packages: \" + str(available_large_packages))    \n",
    "    print(\"Ramaining avaliable small packages: \" + str(available_small_packages))\n",
    "    if items == 0:\n",
    "        return large_packages + small_packages\n",
    "    else:\n",
    "        return -1"
   ]
  },
  {
   "cell_type": "code",
   "execution_count": 9,
   "metadata": {},
   "outputs": [
    {
     "name": "stdout",
     "output_type": "stream",
     "text": [
      "No. of large packages: 2\n",
      "No. of small packages: 6\n",
      "Rest items: 0\n",
      "Ramaining avaliable lage packages: 0\n",
      "Ramaining avaliable small packages: 4\n"
     ]
    },
    {
     "data": {
      "text/plain": [
       "8"
      ]
     },
     "execution_count": 9,
     "metadata": {},
     "output_type": "execute_result"
    }
   ],
   "source": [
    "# EXAMPLE 1\n",
    "items=16\n",
    "large_packages=2\n",
    "small_packages=10\n",
    "minimal_number_of_packages(items, large_packages, small_packages)"
   ]
  },
  {
   "cell_type": "code",
   "execution_count": 10,
   "metadata": {},
   "outputs": [
    {
     "name": "stdout",
     "output_type": "stream",
     "text": [
      "No. of large packages: 2\n",
      "No. of small packages: 3\n",
      "Rest items: 3\n",
      "Ramaining avaliable lage packages: 0\n",
      "Ramaining avaliable small packages: 0\n"
     ]
    },
    {
     "data": {
      "text/plain": [
       "-1"
      ]
     },
     "execution_count": 10,
     "metadata": {},
     "output_type": "execute_result"
    }
   ],
   "source": [
    "# EXAMPLE 2\n",
    "items=16\n",
    "large_packages=2\n",
    "small_packages=3\n",
    "minimal_number_of_packages(items, large_packages, small_packages)"
   ]
  },
  {
   "cell_type": "code",
   "execution_count": 12,
   "metadata": {},
   "outputs": [
    {
     "name": "stdout",
     "output_type": "stream",
     "text": [
      "No. of large packages: 1\n",
      "No. of small packages: 1\n",
      "Rest items: 0\n",
      "Ramaining avaliable lage packages: 1\n",
      "Ramaining avaliable small packages: 2\n"
     ]
    },
    {
     "data": {
      "text/plain": [
       "2"
      ]
     },
     "execution_count": 12,
     "metadata": {},
     "output_type": "execute_result"
    }
   ],
   "source": [
    "# EXAMPLE 3\n",
    "items=6\n",
    "large_packages=2\n",
    "small_packages=3\n",
    "minimal_number_of_packages(items, large_packages, small_packages)"
   ]
  },
  {
   "cell_type": "code",
   "execution_count": 16,
   "metadata": {},
   "outputs": [
    {
     "name": "stdout",
     "output_type": "stream",
     "text": [
      "No. of large packages: 24\n",
      "No. of small packages: 512\n",
      "Rest items: 0\n",
      "Ramaining avaliable lage packages: 0\n",
      "Ramaining avaliable small packages: 468\n"
     ]
    },
    {
     "data": {
      "text/plain": [
       "536"
      ]
     },
     "execution_count": 16,
     "metadata": {},
     "output_type": "execute_result"
    }
   ],
   "source": [
    "# EXAMPLE 5\n",
    "items=632\n",
    "large_packages=24\n",
    "small_packages=980\n",
    "minimal_number_of_packages(items, large_packages, small_packages)"
   ]
  }
 ],
 "metadata": {
  "kernelspec": {
   "display_name": "Python 3",
   "language": "python",
   "name": "python3"
  },
  "language_info": {
   "codemirror_mode": {
    "name": "ipython",
    "version": 3
   },
   "file_extension": ".py",
   "mimetype": "text/x-python",
   "name": "python",
   "nbconvert_exporter": "python",
   "pygments_lexer": "ipython3",
   "version": "3.7.4"
  },
  "toc": {
   "base_numbering": 1,
   "nav_menu": {},
   "number_sections": true,
   "sideBar": true,
   "skip_h1_title": false,
   "title_cell": "Table of Contents",
   "title_sidebar": "Contents",
   "toc_cell": false,
   "toc_position": {},
   "toc_section_display": true,
   "toc_window_display": false
  }
 },
 "nbformat": 4,
 "nbformat_minor": 4
}
